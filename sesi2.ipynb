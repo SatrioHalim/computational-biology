{
 "cells": [
  {
   "cell_type": "markdown",
   "metadata": {},
   "source": [
    "Session 2 Overview\n",
    "\n",
    "Outline :\n",
    "1. GC and AT Composition on DNA\n",
    "2. Melting point of DNA\n",
    "3. Nucleotide Molecular Weight\n",
    "\n",
    "# GC and AT Composition on DNA\n",
    "    GC-Content (or Guanine-Cytosine content) is the percentage of nitrogenous bases in a DNA or RNA molecule that are either Guanine (G)\n",
    "    or Cyctosine(C)\n",
    "\n",
    "    Usefullness :\n",
    "    • In polymerase chain reaction (PCR) experiments, the GC-content of short oligonucleotides known as primers is often used to predict their annealing temperature to the template DNA.\n",
    "    • A higher GC-content level indicates a relatively higher melting temperature.\n",
    "    • DNA with low GC-content is less stable than DNA with high GC-content\n",
    "    • High GC content DNA can make it difficult to perform PCR amplication due to difficulty in designing a primer long enough to provide great specifity\n",
    "\n",
    "# Melting point of DNA\n",
    "    • Higher GC means high melting point\n",
    "    • Tm Wallace: 'Rule of thumb'\n",
    "    • Tm GC: Empirical formulas based on GC content. Salt and mismatch corrections can be included.\n",
    "    • Tm NN: Calculation based on nearest neighbor thermodynamics. Several tables for DNA/DNA, DNA/RNA and RNA/RNA hybridizations are included. Correction for mismatches, dangling ends, salt concentration and other additives are available.\n",
    "\n",
    "# Nucleotide Molecular Weight\n",
    "    • Check for the Molecular Weight\n",
    "    • ProtParam.ProteinAnalysis\n",
    "    • Counter from collections\n"
   ]
  },
  {
   "cell_type": "code",
   "execution_count": null,
   "metadata": {},
   "outputs": [],
   "source": [
    "from Bio.Seq import Seq"
   ]
  },
  {
   "cell_type": "code",
   "execution_count": 8,
   "metadata": {},
   "outputs": [],
   "source": [
    "Sequence_A = Seq('CGTAGCTAGCTAGCTAGCTAGCTACGTAGCTACAGCT')\n",
    "\n",
    "def find_GC(input):\n",
    "    g_count = input.count('G')\n",
    "    c_count = input.count('C')\n",
    "    # print(g_count)\n",
    "    # print(c_count)\n",
    "    total_count = len(input)\n",
    "    return (g_count + c_count) / total_count\n",
    "\n"
   ]
  },
  {
   "cell_type": "code",
   "execution_count": null,
   "metadata": {},
   "outputs": [
    {
     "name": "stdout",
     "output_type": "stream",
     "text": [
      "The Percentage of nitrogenous bases in DNA or RNA molecuce that are either G or C\n",
      "0.5135135135135135\n",
      "0.4864864864864865\n"
     ]
    }
   ],
   "source": [
    "print(\"The Percentage of nitrogenous bases in DNA or RNA molecuce that are either G or C\")\n",
    "GC_A = find_GC(Sequence_A)\n",
    "print(GC_A)\n",
    "AT_A = 1 - GC_A\n",
    "print(AT_A)"
   ]
  },
  {
   "cell_type": "code",
   "execution_count": 12,
   "metadata": {},
   "outputs": [],
   "source": [
    "from Bio.SeqUtils import GC"
   ]
  },
  {
   "cell_type": "code",
   "execution_count": 15,
   "metadata": {},
   "outputs": [
    {
     "name": "stdout",
     "output_type": "stream",
     "text": [
      "51.351351351351354\n",
      "48.648648648648646\n"
     ]
    }
   ],
   "source": [
    "print(GC(Sequence_A))\n",
    "print(100 - GC(Sequence_A))"
   ]
  },
  {
   "cell_type": "code",
   "execution_count": 17,
   "metadata": {},
   "outputs": [],
   "source": [
    "from Bio.SeqUtils import MeltingTemp as mt"
   ]
  },
  {
   "cell_type": "code",
   "execution_count": 21,
   "metadata": {},
   "outputs": [
    {
     "name": "stdout",
     "output_type": "stream",
     "text": [
      "64.49273010325301\n",
      "112.0\n",
      "64.91989930511858\n"
     ]
    }
   ],
   "source": [
    "print(mt.Tm_GC(Sequence_A))\n",
    "print(mt.Tm_Wallace(Sequence_A))\n",
    "print(mt.Tm_NN(Sequence_A))"
   ]
  },
  {
   "cell_type": "code",
   "execution_count": 22,
   "metadata": {},
   "outputs": [],
   "source": [
    "from Bio.SeqUtils import molecular_weight"
   ]
  },
  {
   "cell_type": "code",
   "execution_count": 23,
   "metadata": {},
   "outputs": [
    {
     "name": "stdout",
     "output_type": "stream",
     "text": [
      "11429.2837\n"
     ]
    }
   ],
   "source": [
    "print(molecular_weight(Sequence_A))"
   ]
  }
 ],
 "metadata": {
  "kernelspec": {
   "display_name": "computational_biology",
   "language": "python",
   "name": "python3"
  },
  "language_info": {
   "codemirror_mode": {
    "name": "ipython",
    "version": 3
   },
   "file_extension": ".py",
   "mimetype": "text/x-python",
   "name": "python",
   "nbconvert_exporter": "python",
   "pygments_lexer": "ipython3",
   "version": "3.7.6"
  }
 },
 "nbformat": 4,
 "nbformat_minor": 2
}
