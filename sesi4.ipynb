{
 "cells": [
  {
   "cell_type": "markdown",
   "metadata": {},
   "source": [
    "Sequence Alignment Using Biopython\n",
    "\n",
    "Global Alignment : \n",
    "    -> Query sequence memiliki panjang yang sama dengan target sequence\n",
    "    -> Kita align full sequencenya\n",
    "\n",
    "Local alignment : \n",
    "    -> Query sequence boleh lebih pendek dari target querinya\n",
    "    -> Dia bakal cari alginment yang paling bagus\n",
    "\n",
    "Scoring System : \n",
    "    1. Match -> Kedua nucleotide sama\n",
    "    2. Mismatch -> Kedua nucleotide berbeda\n",
    "    3. Gap Start -> gap yang pertama\n",
    "    4. Gap extend -> gap yang mengikuti gap start\n",
    "\n",
    "Hamming Distance : \n",
    "    -> Kita hitung berapa banyak yang mismatch"
   ]
  },
  {
   "cell_type": "code",
   "execution_count": 1,
   "metadata": {},
   "outputs": [],
   "source": [
    "from Bio.Seq import Seq"
   ]
  },
  {
   "cell_type": "code",
   "execution_count": 2,
   "metadata": {},
   "outputs": [],
   "source": [
    "DNA_A = Seq(\"CGATCGAT\")\n",
    "DNA_B = Seq(\"ACGTGTAC\")"
   ]
  },
  {
   "cell_type": "markdown",
   "metadata": {},
   "source": [
    "#### **Jenis-jenis Scoring**\n",
    "**xx** -> Dia bakal pake default scoringnya\n",
    "**mx** -> Kita bisa setting score buat match & dismatch\n",
    "**ms** -> kita bisa setting score buat match, mismatch, gap start & extend"
   ]
  },
  {
   "cell_type": "code",
   "execution_count": 6,
   "metadata": {},
   "outputs": [],
   "source": [
    "from Bio import pairwise2\n",
    "from Bio.pairwise2 import format_alignment"
   ]
  },
  {
   "cell_type": "code",
   "execution_count": 8,
   "metadata": {},
   "outputs": [
    {
     "name": "stdout",
     "output_type": "stream",
     "text": [
      "-CGATCGAT--\n",
      " || | | |  \n",
      "ACG-T-G-TAC\n",
      "  Score=5\n",
      "\n",
      "-CGATCG-AT-\n",
      " || | | |  \n",
      "ACG-T-GTA-C\n",
      "  Score=5\n",
      "\n",
      "-CGATCG-AT\n",
      " || | | |.\n",
      "ACG-T-GTAC\n",
      "  Score=5\n",
      "\n"
     ]
    }
   ],
   "source": [
    "alignments = pairwise2.align.globalxx(DNA_A, DNA_B)\n",
    "\n",
    "for alignment in alignments:\n",
    "    print(format_alignment(*alignment))"
   ]
  },
  {
   "cell_type": "code",
   "execution_count": 11,
   "metadata": {},
   "outputs": [
    {
     "name": "stdout",
     "output_type": "stream",
     "text": [
      "-CGATCGAT--\n",
      " || | | |  \n",
      "ACG-T-G-TAC\n",
      "  Score=2.4\n",
      "\n"
     ]
    }
   ],
   "source": [
    "alignments = pairwise2.align.globalms(DNA_A, DNA_B, 1, -1, -0.5, -0.1)\n",
    "for alignment in alignments:\n",
    "    print(format_alignment(*alignment))\n",
    "\n",
    "# match = 5\n",
    "# mismatch = 0\n",
    "# gap start = 5\n",
    "# gap extend = 1\n",
    "\n",
    "# Score (5 * 1) + (0 * -1) + (5 * -0.5) + (1 * -0.1) = 2.4"
   ]
  },
  {
   "cell_type": "code",
   "execution_count": 13,
   "metadata": {},
   "outputs": [
    {
     "name": "stdout",
     "output_type": "stream",
     "text": [
      "1 CGATCGAT\n",
      "  || | | |\n",
      "2 CG-T-G-T\n",
      "  Score=5\n",
      "\n",
      "1 CGATCG-A\n",
      "  || | | |\n",
      "2 CG-T-GTA\n",
      "  Score=5\n",
      "\n"
     ]
    }
   ],
   "source": [
    "alignments = pairwise2.align.localxx(DNA_A, DNA_B)\n",
    "for alignment in alignments:\n",
    "    print(format_alignment(*alignment))"
   ]
  },
  {
   "cell_type": "code",
   "execution_count": 14,
   "metadata": {},
   "outputs": [],
   "source": [
    "def hamming_distance(seq_A, seq_B):\n",
    "    distance = 0\n",
    "\n",
    "    # zip -> untuk iterasiin dua sequence sekaligus\n",
    "    for x,y  in zip(seq_A, seq_B):\n",
    "        if x != y:\n",
    "            distance += 1\n",
    "\n",
    "    return distance"
   ]
  },
  {
   "cell_type": "code",
   "execution_count": 15,
   "metadata": {},
   "outputs": [
    {
     "data": {
      "text/plain": [
       "6"
      ]
     },
     "execution_count": 15,
     "metadata": {},
     "output_type": "execute_result"
    }
   ],
   "source": [
    "hamming_distance(DNA_A, DNA_B)"
   ]
  },
  {
   "cell_type": "code",
   "execution_count": 17,
   "metadata": {},
   "outputs": [
    {
     "data": {
      "text/plain": [
       "5"
      ]
     },
     "execution_count": 17,
     "metadata": {},
     "output_type": "execute_result"
    }
   ],
   "source": [
    "from Levenshtein import distance\n",
    "\n",
    "distance(DNA_A, DNA_B)"
   ]
  },
  {
   "cell_type": "code",
   "execution_count": 18,
   "metadata": {},
   "outputs": [],
   "source": [
    "# CUman buat cek dia sama ato ga\n",
    "def match(a,b):\n",
    "    return a == b"
   ]
  },
  {
   "cell_type": "code",
   "execution_count": 19,
   "metadata": {},
   "outputs": [],
   "source": [
    "def make_matrix(seq_A,seq_B):\n",
    "    matrix = []\n",
    "\n",
    "    # biar seq_B jadi sumbu y nya\n",
    "    for i in seq_B:\n",
    "        row = []\n",
    "        for j in seq_A:\n",
    "            # i -> nucleotide di seq_B, j -> nucleotide di seq_A\n",
    "            # match(i,j) -> fungsi buat ngecek dia sama ato ga\n",
    "            row.append(match(i,j))\n",
    "        matrix.append(row)\n",
    "    return matrix"
   ]
  },
  {
   "cell_type": "code",
   "execution_count": 21,
   "metadata": {},
   "outputs": [
    {
     "data": {
      "text/plain": [
       "[[False, False, True, False, False, False, True, False],\n",
       " [True, False, False, False, True, False, False, False],\n",
       " [False, True, False, False, False, True, False, False],\n",
       " [False, False, False, True, False, False, False, True],\n",
       " [False, True, False, False, False, True, False, False],\n",
       " [False, False, False, True, False, False, False, True],\n",
       " [False, False, True, False, False, False, True, False],\n",
       " [True, False, False, False, True, False, False, False]]"
      ]
     },
     "execution_count": 21,
     "metadata": {},
     "output_type": "execute_result"
    }
   ],
   "source": [
    "make_matrix(DNA_A, DNA_B)"
   ]
  },
  {
   "cell_type": "code",
   "execution_count": 24,
   "metadata": {},
   "outputs": [],
   "source": [
    "def print_matrix(seq_A, seq_B):\n",
    "    matrix = make_matrix(seq_A, seq_B)\n",
    "\n",
    "    print(\"  \" + seq_A)\n",
    "    for x,y in zip(matrix, seq_B):\n",
    "        row = y + \" \"\n",
    "        for z in x:\n",
    "            row += \"•\" if z else \" \"\n",
    "        print(row)"
   ]
  },
  {
   "cell_type": "code",
   "execution_count": 25,
   "metadata": {},
   "outputs": [
    {
     "name": "stdout",
     "output_type": "stream",
     "text": [
      "  CGATCGAT\n",
      "A   •   • \n",
      "C •   •   \n",
      "G  •   •  \n",
      "T    •   •\n",
      "G  •   •  \n",
      "T    •   •\n",
      "A   •   • \n",
      "C •   •   \n"
     ]
    }
   ],
   "source": [
    "print_matrix(DNA_A, DNA_B)"
   ]
  }
 ],
 "metadata": {
  "kernelspec": {
   "display_name": "computational_biology",
   "language": "python",
   "name": "python3"
  },
  "language_info": {
   "codemirror_mode": {
    "name": "ipython",
    "version": 3
   },
   "file_extension": ".py",
   "mimetype": "text/x-python",
   "name": "python",
   "nbconvert_exporter": "python",
   "pygments_lexer": "ipython3",
   "version": "3.7.6"
  }
 },
 "nbformat": 4,
 "nbformat_minor": 2
}
